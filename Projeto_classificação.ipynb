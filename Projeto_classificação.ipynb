{
  "nbformat": 4,
  "nbformat_minor": 0,
  "metadata": {
    "colab": {
      "private_outputs": true,
      "provenance": [],
      "authorship_tag": "ABX9TyOx5wr8C2n99NjVsfYi7g71",
      "include_colab_link": true
    },
    "kernelspec": {
      "name": "python3",
      "display_name": "Python 3"
    },
    "language_info": {
      "name": "python"
    }
  },
  "cells": [
    {
      "cell_type": "markdown",
      "metadata": {
        "id": "view-in-github",
        "colab_type": "text"
      },
      "source": [
        "<a href=\"https://colab.research.google.com/github/FredMiraglia/analise/blob/main/Projeto_classifica%C3%A7%C3%A3o.ipynb\" target=\"_parent\"><img src=\"https://colab.research.google.com/assets/colab-badge.svg\" alt=\"Open In Colab\"/></a>"
      ]
    },
    {
      "cell_type": "code",
      "execution_count": null,
      "metadata": {
        "id": "58zj36sNc8oa"
      },
      "outputs": [],
      "source": [
        "import numpy as np\n",
        "import pandas as pd\n",
        "import matplotlib.pyplot as plt\n",
        "import seaborn as sns\n",
        "import plotly.express as px\n",
        "import warnings\n",
        "warnings.filterwarnings('ignore')\n",
        "pd.set_option('display.max_columns', None)\n",
        "pd.set_option('display.max_rows', None)\n",
        "pd.set_option('display.float_format', lambda x: '%.3f' % x)\n",
        "pd.set_option('display.width', 500)"
      ]
    },
    {
      "cell_type": "markdown",
      "source": [
        "Projeto de previsão de doença cardíaca."
      ],
      "metadata": {
        "id": "Th-ZC27ZEIKq"
      }
    },
    {
      "cell_type": "code",
      "source": [
        "df = pd.read_csv('/content/heart.csv')\n",
        "df.head()"
      ],
      "metadata": {
        "id": "MVPDfbHDdXhC"
      },
      "execution_count": null,
      "outputs": []
    },
    {
      "cell_type": "markdown",
      "source": [
        "Base de dados"
      ],
      "metadata": {
        "id": "APdd_qYNEWhV"
      }
    },
    {
      "cell_type": "code",
      "source": [
        "df.tail()"
      ],
      "metadata": {
        "id": "FgT_mWE1NF4x"
      },
      "execution_count": null,
      "outputs": []
    },
    {
      "cell_type": "code",
      "source": [
        "df.shape"
      ],
      "metadata": {
        "id": "_tUlBMJgNNhJ"
      },
      "execution_count": null,
      "outputs": []
    },
    {
      "cell_type": "code",
      "source": [
        "df.info()"
      ],
      "metadata": {
        "id": "fUF7NetMdivf"
      },
      "execution_count": null,
      "outputs": []
    },
    {
      "cell_type": "markdown",
      "source": [
        "A base de dados é composta por 12 variáveis 5 são do tipo object, 6 do tipo int e 1 do tipo float."
      ],
      "metadata": {
        "id": "PQTLaDWYEfOU"
      }
    },
    {
      "cell_type": "code",
      "source": [
        "df.describe()"
      ],
      "metadata": {
        "id": "8rzWJu6Bdogq"
      },
      "execution_count": null,
      "outputs": []
    },
    {
      "cell_type": "code",
      "source": [
        "df.isnull().sum()"
      ],
      "metadata": {
        "id": "xU5I9FMGdwVN"
      },
      "execution_count": null,
      "outputs": []
    },
    {
      "cell_type": "markdown",
      "source": [
        "Não há nenhum valor faltando."
      ],
      "metadata": {
        "id": "cs98IPicFHnf"
      }
    },
    {
      "cell_type": "code",
      "source": [
        "df.duplicated().sum()"
      ],
      "metadata": {
        "id": "KPVuWkl-d0z_"
      },
      "execution_count": null,
      "outputs": []
    },
    {
      "cell_type": "markdown",
      "source": [
        "não há nenhum valor duplicado."
      ],
      "metadata": {
        "id": "1wwf1U8JFOAD"
      }
    },
    {
      "cell_type": "code",
      "source": [
        "df.Age.mean(), df.Age.median(), df.Age.std(), df.Age.var(), df.Age.min(), df.Age.max()"
      ],
      "metadata": {
        "id": "iXJAEnsqd28a"
      },
      "execution_count": null,
      "outputs": []
    },
    {
      "cell_type": "markdown",
      "source": [
        "aqui mostra á média da idade, a mediana da idade, o desvio padrão, a variância, valor mínimo e o valor máximo das idades."
      ],
      "metadata": {
        "id": "lvfKlIhLFTl-"
      }
    },
    {
      "cell_type": "code",
      "source": [
        "df.columns"
      ],
      "metadata": {
        "id": "68F5Kh_DeLn3"
      },
      "execution_count": null,
      "outputs": []
    },
    {
      "cell_type": "code",
      "source": [
        "df.columns = ['Idade', 'Sexo', 'Tipo de dor no peito', 'BP em repouso', 'Colesterol', 'VS em jejum', 'ECG em repouso', 'FC máx.', 'Angina de exercício', 'Oldpeak', 'Inclinação ST' , 'Doença cardíaca']"
      ],
      "metadata": {
        "id": "BLoFwopSeWqp"
      },
      "execution_count": null,
      "outputs": []
    },
    {
      "cell_type": "markdown",
      "source": [
        "aqui estou renomeando as colunas."
      ],
      "metadata": {
        "id": "TkJRSCDoFp6J"
      }
    },
    {
      "cell_type": "code",
      "source": [
        "df.Sexo.value_counts()"
      ],
      "metadata": {
        "id": "opmKZAOcfJte"
      },
      "execution_count": null,
      "outputs": []
    },
    {
      "cell_type": "markdown",
      "source": [
        "contidade de pessoas do sexo masculino e feminino."
      ],
      "metadata": {
        "id": "5dX2KVJCF3ia"
      }
    },
    {
      "cell_type": "code",
      "source": [
        "homem = df[df['Sexo']=='M']\n",
        "mulher = df[df['Sexo']=='F']"
      ],
      "metadata": {
        "id": "hKAVkmoIfURV"
      },
      "execution_count": null,
      "outputs": []
    },
    {
      "cell_type": "markdown",
      "source": [
        "aqui estou separando a base de dado pelo sexo."
      ],
      "metadata": {
        "id": "xFBhx3KWF7IL"
      }
    },
    {
      "cell_type": "code",
      "source": [
        "homem.Idade.mean(), mulher.Idade.mean()"
      ],
      "metadata": {
        "id": "kyMMdn4OfZmt"
      },
      "execution_count": null,
      "outputs": []
    },
    {
      "cell_type": "markdown",
      "source": [
        "média das idades do sexo masculino e média das idades do sexo feminino."
      ],
      "metadata": {
        "id": "-oa0OoDhGJs7"
      }
    },
    {
      "cell_type": "code",
      "source": [
        "homem['Doença cardíaca'].value_counts()\n",
        "homem['Doença cardíaca'].value_counts().plot(kind='bar', title='Doença cardíaca por homem')"
      ],
      "metadata": {
        "id": "QrMjijAkf6Sp"
      },
      "execution_count": null,
      "outputs": []
    },
    {
      "cell_type": "markdown",
      "source": [
        "Aqui nesse gráfico notamos que há mais homem com doença cardíaca do sem doença."
      ],
      "metadata": {
        "id": "YoTVzGP6Ggeo"
      }
    },
    {
      "cell_type": "code",
      "source": [
        "mulher['Doença cardíaca'].value_counts()\n",
        "mulher['Doença cardíaca'].value_counts().plot(kind='bar', title='Doença cardíaca por mulher')"
      ],
      "metadata": {
        "id": "98jkc02XgQEb"
      },
      "execution_count": null,
      "outputs": []
    },
    {
      "cell_type": "markdown",
      "source": [
        "Nesse gráfico a quantidade de mulheres sem doença é maior."
      ],
      "metadata": {
        "id": "HlnC8LhCGvU_"
      }
    },
    {
      "cell_type": "code",
      "source": [
        "df.Sexo.value_counts(normalize=True) * 100"
      ],
      "metadata": {
        "id": "8d0VVPanggpA"
      },
      "execution_count": null,
      "outputs": []
    },
    {
      "cell_type": "markdown",
      "source": [
        "Aqui nós vemos que a proporção de homens é bem maior do que a proporção de mulheres."
      ],
      "metadata": {
        "id": "qLiRVpQvHAt2"
      }
    },
    {
      "cell_type": "code",
      "source": [
        "homem['Doença cardíaca'].value_counts(normalize=True) * 100"
      ],
      "metadata": {
        "id": "t-WgMxJ8gzmI"
      },
      "execution_count": null,
      "outputs": []
    },
    {
      "cell_type": "markdown",
      "source": [
        "Aqui vemos que 63,17% dos homens sofrem de doença cardíaca."
      ],
      "metadata": {
        "id": "XafhQ6QyHRGf"
      }
    },
    {
      "cell_type": "code",
      "source": [
        "mulher['Doença cardíaca'].value_counts(normalize=True) * 100"
      ],
      "metadata": {
        "id": "e342dOE2g-Bz"
      },
      "execution_count": null,
      "outputs": []
    },
    {
      "cell_type": "markdown",
      "source": [
        "aqui a porcentagem de mulheres com doença cardíaca é bem menor."
      ],
      "metadata": {
        "id": "B8GogLSKHdIG"
      }
    },
    {
      "cell_type": "code",
      "source": [
        "df['Tipo de dor no peito'].value_counts(), df['Tipo de dor no peito'].value_counts().plot(kind='bar', title='Tipo de dor no peito')"
      ],
      "metadata": {
        "id": "ZEPGC_eDhMon"
      },
      "execution_count": null,
      "outputs": []
    },
    {
      "cell_type": "markdown",
      "source": [
        "mostra a quantidade do tipo de dor no peito ASY é bem maior que as outras."
      ],
      "metadata": {
        "id": "tChJc5gfHuWE"
      }
    },
    {
      "cell_type": "code",
      "source": [
        "ataque = df[df['Doença cardíaca']==1]\n",
        "ataque['Tipo de dor no peito'].value_counts()"
      ],
      "metadata": {
        "id": "6vQh683jh5Sp"
      },
      "execution_count": null,
      "outputs": []
    },
    {
      "cell_type": "markdown",
      "source": [
        "ASY - assintomático\n",
        "NAP - dor não anginiosa\n",
        "ATA - angina atípica\n",
        "TA - angina típica\n",
        "\n",
        "Angina: dor no peito causada peladiminuíção do fluxo de sangue no coração."
      ],
      "metadata": {
        "id": "_4UGRfiNQZvL"
      }
    },
    {
      "cell_type": "markdown",
      "source": [
        "mostra a quantidade do tipo de dor no peito ASY é bem maior que as outras, só de pessoas que sofrem de doença."
      ],
      "metadata": {
        "id": "1z8m5rcEIGd2"
      }
    },
    {
      "cell_type": "code",
      "source": [
        "df['Tipo de dor no peito'].value_counts(normalize=True) * 100"
      ],
      "metadata": {
        "id": "pdMiIbJMReRb"
      },
      "execution_count": null,
      "outputs": []
    },
    {
      "cell_type": "code",
      "source": [
        "n_ataque = df[df['Doença cardíaca']==0]\n",
        "n_ataque['Tipo de dor no peito'].value_counts()"
      ],
      "metadata": {
        "id": "7_x5w7zgh_n9"
      },
      "execution_count": null,
      "outputs": []
    },
    {
      "cell_type": "markdown",
      "source": [
        "Aqui mostra a mesma informação so de pessoas que não sofre de doença."
      ],
      "metadata": {
        "id": "x9c3U-4cISTo"
      }
    },
    {
      "cell_type": "code",
      "source": [
        "colesterol = df.groupby('Doença cardíaca')['Colesterol'].mean()\n",
        "colesterol"
      ],
      "metadata": {
        "id": "acD54ldtiOJG"
      },
      "execution_count": null,
      "outputs": []
    },
    {
      "cell_type": "markdown",
      "source": [
        "Aqui tem uma informação muito importante, pessoas com doenças estão em média com colesteral mais baixo do que pessoas que não estão doentes."
      ],
      "metadata": {
        "id": "i3PKxYkLIeET"
      }
    },
    {
      "cell_type": "code",
      "source": [
        "df.columns"
      ],
      "metadata": {
        "id": "9gBpLk8Xiaxi"
      },
      "execution_count": null,
      "outputs": []
    },
    {
      "cell_type": "code",
      "source": [
        "batimento = df.groupby('Doença cardíaca')['BP em repouso'].mean()\n",
        "batimento"
      ],
      "metadata": {
        "id": "PIDTX8toiqaH"
      },
      "execution_count": null,
      "outputs": []
    },
    {
      "cell_type": "code",
      "source": [
        "jejum = df.groupby('Doença cardíaca')['VS em jejum'].mean()\n",
        "jejum"
      ],
      "metadata": {
        "id": "qla0raBti9EG"
      },
      "execution_count": null,
      "outputs": []
    },
    {
      "cell_type": "code",
      "source": [
        "df.columns"
      ],
      "metadata": {
        "id": "vXZy_hfMSdAq"
      },
      "execution_count": null,
      "outputs": []
    },
    {
      "cell_type": "code",
      "source": [
        "df[df['BP em repouso']==0]"
      ],
      "metadata": {
        "id": "t-ybPN3BUF50"
      },
      "execution_count": null,
      "outputs": []
    },
    {
      "cell_type": "code",
      "source": [
        "df = df[df['BP em repouso'] > 0]"
      ],
      "metadata": {
        "id": "4hK87SANU_GV"
      },
      "execution_count": null,
      "outputs": []
    },
    {
      "cell_type": "code",
      "source": [
        "#df['BP em repouso'].describe(),\n",
        "df[df['Doença cardíaca']==1]['BP em repouso'].describe()"
      ],
      "metadata": {
        "id": "QHLXSpQMSUBl"
      },
      "execution_count": null,
      "outputs": []
    },
    {
      "cell_type": "code",
      "source": [
        "df[df['Doença cardíaca']==0]['BP em repouso'].describe()"
      ],
      "metadata": {
        "id": "jPGcWg0nTefP"
      },
      "execution_count": null,
      "outputs": []
    },
    {
      "cell_type": "code",
      "source": [
        "lista = []\n",
        "for i in df.columns:\n",
        "    if df[i].dtype != 'object':\n",
        "        lista.append(i)\n",
        "print(lista)"
      ],
      "metadata": {
        "id": "hB292vbOjO8Q"
      },
      "execution_count": null,
      "outputs": []
    },
    {
      "cell_type": "code",
      "source": [
        "plt.figure(figsize=(10,8))\n",
        "plt.title('Correlação entre as variáveis')\n",
        "sns.heatmap(df[lista].corr(), annot=True, cmap='viridis', linewidths=0.5, cbar=False)\n",
        "plt.show()"
      ],
      "metadata": {
        "id": "BK3Kzdd3kYRu"
      },
      "execution_count": null,
      "outputs": []
    },
    {
      "cell_type": "markdown",
      "source": [
        "Esse gráfico de correlação entre as variáveis."
      ],
      "metadata": {
        "id": "YvmJ4-OLJCwT"
      }
    },
    {
      "cell_type": "code",
      "source": [
        "px.box(data_frame=df, x='Doença cardíaca', y='Idade', title='Doença cardíaca por idade')"
      ],
      "metadata": {
        "id": "AHCn_EF1OrIQ"
      },
      "execution_count": null,
      "outputs": []
    },
    {
      "cell_type": "code",
      "source": [
        "df = df[ df['Idade']>34]"
      ],
      "metadata": {
        "id": "L0nCsoW3V03g"
      },
      "execution_count": null,
      "outputs": []
    },
    {
      "cell_type": "code",
      "source": [
        "df.Sexo = df.Sexo.map({'M':1, 'F':0})"
      ],
      "metadata": {
        "id": "TxaXLsLwlH_0"
      },
      "execution_count": null,
      "outputs": []
    },
    {
      "cell_type": "code",
      "source": [
        "doenca = df[df['Doença cardíaca']==1]\n",
        "doenca.head()"
      ],
      "metadata": {
        "id": "zxwFZKBDlQVF"
      },
      "execution_count": null,
      "outputs": []
    },
    {
      "cell_type": "code",
      "source": [
        "px.histogram(data_frame=doenca, x='Idade', title='Doença cardíaca por idade', color=\"Sexo\")"
      ],
      "metadata": {
        "id": "VML-CR-ilkpQ"
      },
      "execution_count": null,
      "outputs": []
    },
    {
      "cell_type": "code",
      "source": [
        "px.bar(data_frame=doenca, x='Tipo de dor no peito', title='Doença cardíaca por tipo de dor no peito',color='Sexo')"
      ],
      "metadata": {
        "id": "T_0hyAUHmFAM"
      },
      "execution_count": null,
      "outputs": []
    },
    {
      "cell_type": "code",
      "source": [
        "px.histogram(data_frame=doenca, x='Colesterol', title='Doença cardíaca por colesterol',color='Sexo')"
      ],
      "metadata": {
        "id": "PAGoOiSbmYpd"
      },
      "execution_count": null,
      "outputs": []
    },
    {
      "cell_type": "code",
      "source": [
        "px.histogram(data_frame=doenca, x='BP em repouso', title='Doença cardíaca por BP em repouso',color='Sexo')\n"
      ],
      "metadata": {
        "id": "LBy4dbS_p1iS"
      },
      "execution_count": null,
      "outputs": []
    },
    {
      "cell_type": "code",
      "source": [
        "df['Tipo de dor no peito'] = df['Tipo de dor no peito'].map({'ASY':0, 'ATA':1, 'NAP':2, 'TA':3})"
      ],
      "metadata": {
        "id": "w8w8SGkbpHyH"
      },
      "execution_count": null,
      "outputs": []
    },
    {
      "cell_type": "code",
      "source": [
        "df['ECG em repouso'] = df['ECG em repouso'].map({'LVH':0, 'Normal':1, 'ST':2})"
      ],
      "metadata": {
        "id": "s6Ve0Pexpso5"
      },
      "execution_count": null,
      "outputs": []
    },
    {
      "cell_type": "code",
      "source": [
        "df['Angina de exercício'] = df['Angina de exercício'].map({'N':0, 'Y':1})"
      ],
      "metadata": {
        "id": "Lio1_aY7qOtT"
      },
      "execution_count": null,
      "outputs": []
    },
    {
      "cell_type": "code",
      "source": [
        "df['Inclinação ST'] = df['Inclinação ST'].map({'Down':0, 'Flat':1, 'Up':2})"
      ],
      "metadata": {
        "id": "mvRAfdiEqaV6"
      },
      "execution_count": null,
      "outputs": []
    },
    {
      "cell_type": "code",
      "source": [
        "df.head()"
      ],
      "metadata": {
        "id": "ph-vB2sNpguh"
      },
      "execution_count": null,
      "outputs": []
    },
    {
      "cell_type": "code",
      "source": [
        "df['VS em jejum'].plot(kind='hist')"
      ],
      "metadata": {
        "id": "A8dMViw5XiNQ"
      },
      "execution_count": null,
      "outputs": []
    },
    {
      "cell_type": "code",
      "source": [
        "df['Doença cardíaca'].value_counts()"
      ],
      "metadata": {
        "id": "fCGCQRfVYN_G"
      },
      "execution_count": null,
      "outputs": []
    },
    {
      "cell_type": "code",
      "source": [
        "df.groupby('Doença cardíaca')['VS em jejum'].value_counts().plot(kind='bar', color=['red', 'green'])"
      ],
      "metadata": {
        "id": "0oddX7ZAX8rc"
      },
      "execution_count": null,
      "outputs": []
    },
    {
      "cell_type": "code",
      "source": [
        "from sklearn.model_selection import train_test_split"
      ],
      "metadata": {
        "id": "iSAJavE8JUQO"
      },
      "execution_count": null,
      "outputs": []
    },
    {
      "cell_type": "code",
      "source": [
        "X =  df.drop('Doença cardíaca', axis=1)\n",
        "y = df['Doença cardíaca']"
      ],
      "metadata": {
        "id": "aEaLHUy5nuOP"
      },
      "execution_count": null,
      "outputs": []
    },
    {
      "cell_type": "code",
      "source": [
        "from sklearn.preprocessing import StandardScaler\n",
        "scaler = StandardScaler()\n",
        "X = scaler.fit_transform(X)"
      ],
      "metadata": {
        "id": "vgQqc4iso7mq"
      },
      "execution_count": null,
      "outputs": []
    },
    {
      "cell_type": "markdown",
      "source": [
        "Aqui estou padronizando os dados."
      ],
      "metadata": {
        "id": "R-tcBkmhJY91"
      }
    },
    {
      "cell_type": "code",
      "source": [
        "from imblearn.over_sampling import SMOTE\n",
        "smote = SMOTE()\n",
        "X_s, y_s = smote.fit_resample(X, y)"
      ],
      "metadata": {
        "id": "Mmfk8PJuqz-j"
      },
      "execution_count": null,
      "outputs": []
    },
    {
      "cell_type": "markdown",
      "source": [
        "Aqui estou balanceando a base de dados."
      ],
      "metadata": {
        "id": "ls8WcFrXJg53"
      }
    },
    {
      "cell_type": "code",
      "source": [
        "X_train, X_test, y_train, y_test = train_test_split(X, y, test_size=0.2, random_state=42)"
      ],
      "metadata": {
        "id": "jBA4fEcAne9P"
      },
      "execution_count": null,
      "outputs": []
    },
    {
      "cell_type": "markdown",
      "source": [
        "Separando a base em base de treino e teste."
      ],
      "metadata": {
        "id": "Po9Vwjx6Jm_v"
      }
    },
    {
      "cell_type": "code",
      "source": [
        "X_train_s, X_test_s, y_train_s, y_test_s = train_test_split(X_s, y_s, test_size=0.2, random_state=42)"
      ],
      "metadata": {
        "id": "MqeWXnHnrw6f"
      },
      "execution_count": null,
      "outputs": []
    },
    {
      "cell_type": "markdown",
      "source": [
        "Separando a base de dados com os valores balanceados em treino e teste."
      ],
      "metadata": {
        "id": "tNLqyp5yJ2sg"
      }
    },
    {
      "cell_type": "code",
      "source": [
        "from sklearn.linear_model import LogisticRegression\n",
        "from sklearn.metrics import confusion_matrix, classification_report"
      ],
      "metadata": {
        "id": "6cpL6osRrHRN"
      },
      "execution_count": null,
      "outputs": []
    },
    {
      "cell_type": "code",
      "source": [
        "model_lg = LogisticRegression()\n",
        "model_lg.fit(X_train, y_train)\n",
        "pred_lg = model_lg.predict(X_test)"
      ],
      "metadata": {
        "id": "Zli4fq11rInx"
      },
      "execution_count": null,
      "outputs": []
    },
    {
      "cell_type": "code",
      "source": [
        "print(confusion_matrix(y_test, pred_lg))\n",
        "print(classification_report(y_test, pred_lg))"
      ],
      "metadata": {
        "id": "S7QjlIYjrW0q"
      },
      "execution_count": null,
      "outputs": []
    },
    {
      "cell_type": "code",
      "source": [
        "model_lg_s = LogisticRegression()\n",
        "model_lg_s.fit(X_s, y_s)\n",
        "pred_lg_s = model_lg_s.predict(X_test_s)"
      ],
      "metadata": {
        "id": "_K0NGU6srbls"
      },
      "execution_count": null,
      "outputs": []
    },
    {
      "cell_type": "code",
      "source": [
        "print(confusion_matrix(y_test_s, pred_lg_s))\n",
        "print(classification_report(y_test_s, pred_lg_s))"
      ],
      "metadata": {
        "id": "vGGhNVCer6VG"
      },
      "execution_count": null,
      "outputs": []
    },
    {
      "cell_type": "code",
      "source": [
        "import xgboost as xgb\n",
        "model_xgb = xgb.XGBClassifier()\n",
        "model_xgb.fit(X_train_s, y_train_s)\n",
        "pred_xgb = model_xgb.predict(X_test_s)"
      ],
      "metadata": {
        "id": "lBTmSkbNsJ1m"
      },
      "execution_count": null,
      "outputs": []
    },
    {
      "cell_type": "code",
      "source": [
        "print(confusion_matrix(y_test_s, pred_xgb))\n",
        "print(classification_report(y_test_s, pred_xgb))"
      ],
      "metadata": {
        "id": "9LahNmtesYnl"
      },
      "execution_count": null,
      "outputs": []
    },
    {
      "cell_type": "code",
      "source": [
        "from sklearn.ensemble import RandomForestClassifier\n",
        "model_rf = RandomForestClassifier()\n",
        "model_rf.fit(X_train_s, y_train_s)\n",
        "pred_rf = model_rf.predict(X_test_s)"
      ],
      "metadata": {
        "id": "fJk4k41ystgB"
      },
      "execution_count": null,
      "outputs": []
    },
    {
      "cell_type": "code",
      "source": [
        "print(confusion_matrix(y_test_s, pred_rf))\n",
        "print(classification_report(y_test_s, pred_rf))"
      ],
      "metadata": {
        "id": "D8sRxQHGsx7L"
      },
      "execution_count": null,
      "outputs": []
    }
  ]
}